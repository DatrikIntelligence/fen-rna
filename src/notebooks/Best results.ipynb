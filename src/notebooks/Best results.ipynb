{
 "cells": [
  {
   "cell_type": "code",
   "execution_count": 1,
   "metadata": {},
   "outputs": [],
   "source": [
    "import pandas as pd\n",
    "import os\n",
    "import numpy as np"
   ]
  },
  {
   "cell_type": "code",
   "execution_count": 2,
   "metadata": {},
   "outputs": [
    {
     "data": {
      "text/plain": [
       "['cnn_fen',\n",
       " 'rnn_fen',\n",
       " 'cnn_cnn_rna',\n",
       " 'rnn_cnn_rna',\n",
       " 'cnn_rnn_rna',\n",
       " 'rnn_rnn_rna']"
      ]
     },
     "execution_count": 2,
     "metadata": {},
     "output_type": "execute_result"
    }
   ],
   "source": [
    "X = pd.read_csv('../../results/results.csv')\n",
    "X1 = pd.read_csv('../rnn_cnn_rna.csv')\n",
    "X = pd.concat((X,X1))\n",
    "list(X.experiment.unique())"
   ]
  },
  {
   "cell_type": "code",
   "execution_count": 3,
   "metadata": {},
   "outputs": [],
   "source": [
    "def show_best(X, experiment, n=4, field='net_mse'):\n",
    "    E = X[X.experiment == experiment]\n",
    "\n",
    "    best_cnn = E[E.experiment == experiment].groupby('arch_hash')[field].mean()\n",
    "    best_cnn = best_cnn.sort_values()\n",
    "    best_cnn.index[0:3]\n",
    "    return best_cnn.iloc[0:n]"
   ]
  },
  {
   "cell_type": "code",
   "execution_count": 4,
   "metadata": {},
   "outputs": [
    {
     "data": {
      "text/plain": [
       "arch_hash\n",
       "0f80bc3117fb7b25b8438a4e6fbee62784005748    0.048950\n",
       "e111cd49191ab8f0f42eaa7311806874a943cdd6    0.059628\n",
       "60bd05cfe9b13fdc4406d81ae6c285ba10edf298    0.061467\n",
       "7364b8845bbc4d9faea9f56314da693966cb7d37    0.063538\n",
       "Name: net_mse, dtype: float64"
      ]
     },
     "execution_count": 4,
     "metadata": {},
     "output_type": "execute_result"
    }
   ],
   "source": [
    "show_best(X, \"rnn_fen\")"
   ]
  },
  {
   "cell_type": "code",
   "execution_count": 10,
   "metadata": {},
   "outputs": [
    {
     "data": {
      "text/plain": [
       "arch_hash\n",
       "900c195954617834ff774c1b8e154ac81a87c707    0.053547\n",
       "343f1f413ad6028dd1c74d5affd5e615970eca9a    0.060564\n",
       "89a4ab88f6261850915b33a3af4283f3d6b9dfea    0.064120\n",
       "f7faddc1994d15b875fd403f453b2510bc8d5906    0.068831\n",
       "Name: net_mse, dtype: float64"
      ]
     },
     "execution_count": 10,
     "metadata": {},
     "output_type": "execute_result"
    }
   ],
   "source": [
    "show_best(X, \"cnn_fen\")"
   ]
  },
  {
   "cell_type": "code",
   "execution_count": 11,
   "metadata": {},
   "outputs": [
    {
     "data": {
      "text/plain": [
       "Unnamed: 0                                                         440.0\n",
       "extra_channel                                                       True\n",
       "epochs                                                               100\n",
       "fc2                                                                100.0\n",
       "epoch_reducers                                                       NaN\n",
       "fold                                                                   0\n",
       "arch_hash                       900c195954617834ff774c1b8e154ac81a87c707\n",
       "net_hash                        c40446a76c53693dc5452745f46ddf7cc7bf2a0f\n",
       "ae_hash                                                              NaN\n",
       "batch_size                                                          42.0\n",
       "window                                                             110.0\n",
       "l1                                                              0.000597\n",
       "l2                                                              0.000773\n",
       "dropout                                                         0.082604\n",
       "batch_normalization                                                 True\n",
       "lr                                                              0.000368\n",
       "variational_mode                                                    True\n",
       "dec_blocks                                                           4.0\n",
       "dec_activation                                                      relu\n",
       "eta                                                                  0.5\n",
       "block_size                                                           3.0\n",
       "nblocks                                                              2.0\n",
       "msblocks                                                             2.0\n",
       "conv_activation                                                     tanh\n",
       "kernel_size                                                       [2, 5]\n",
       "filters                                                             32.0\n",
       "dilation_rate                                                        1.0\n",
       "dense_activation                                               LeakyReLU\n",
       "fc1                                                                145.0\n",
       "f1                                                                   3.0\n",
       "f2                                                                  14.0\n",
       "f3                                                                   9.0\n",
       "pretrain                                                            True\n",
       "freeze                                                             False\n",
       "ae_loss                                                              NaN\n",
       "ae_rec_loss                                                          NaN\n",
       "ae_kl_loss                                                           NaN\n",
       "net_score                                                       0.118255\n",
       "net_mae                                                         0.178738\n",
       "net_mse                                                         0.056355\n",
       "net_NASA_score                                                   0.01538\n",
       "status                                                          FINISHED\n",
       "ae_time                                                              NaN\n",
       "net_time                                                      212.641559\n",
       "kernels                [[2, 3], [2, 5], [2, 10], [1, 3], [1, 5], [1, ...\n",
       "attention                                                            NaN\n",
       "bidirectional                                                        NaN\n",
       "cell_type                                                            NaN\n",
       "lstm_units                                                           NaN\n",
       "net_name                                                             NaN\n",
       "experiment                                                       cnn_fen\n",
       "input_shape                                                          NaN\n",
       "channels                                                             NaN\n",
       "num_embeddings                                                       NaN\n",
       "Name: 440, dtype: object"
      ]
     },
     "execution_count": 11,
     "metadata": {},
     "output_type": "execute_result"
    }
   ],
   "source": [
    "X[X.arch_hash == '900c195954617834ff774c1b8e154ac81a87c707'].iloc[0]"
   ]
  },
  {
   "cell_type": "code",
   "execution_count": 8,
   "metadata": {},
   "outputs": [
    {
     "data": {
      "text/plain": [
       "arch_hash\n",
       "e1bdbbece8a83a8965807683b4a1c454dc201a33    0.046338\n",
       "823b11d42d40645c7283f77177db53e8bcfd44b5    0.046647\n",
       "6cab758c0695193e90eff0df2fc0ab7ce6663746    0.052194\n",
       "203847ccb8e1623712e8ce2b095c37a3e0956870    0.057963\n",
       "Name: net_mse, dtype: float64"
      ]
     },
     "execution_count": 8,
     "metadata": {},
     "output_type": "execute_result"
    }
   ],
   "source": [
    "show_best(X, 'cnn_cnn_rna')"
   ]
  },
  {
   "cell_type": "code",
   "execution_count": 9,
   "metadata": {},
   "outputs": [
    {
     "data": {
      "text/plain": [
       "arch_hash\n",
       "0f850b83576419ca2d20c13e83cd18c18d4363bf    0.053443\n",
       "d6edaa0ccb4fd9fb38137e7c4f33730dab36fa27    0.056364\n",
       "7d794f375e0863e39ff1755dd17ee1fa9f2bf159    0.060122\n",
       "c742aea0337f7ff0f34fac2a028c1c8554fe98e7    0.063294\n",
       "Name: net_mse, dtype: float64"
      ]
     },
     "execution_count": 9,
     "metadata": {},
     "output_type": "execute_result"
    }
   ],
   "source": [
    "show_best(X, \"rnn_cnn_rna\")"
   ]
  },
  {
   "cell_type": "code",
   "execution_count": 24,
   "metadata": {},
   "outputs": [
    {
     "data": {
      "text/plain": [
       "arch_hash\n",
       "eaca8746c78a41ce7218fef411f8afcd059c84fb    0.043894\n",
       "2b8549cb2dca448b403924a090b3ee20ae96e536    0.045669\n",
       "fa3fec5158688009f9274c11c37921dad0c9b9b3    0.046015\n",
       "031f0fa87ca366c521cb24d98618892ed5ddd51e    0.046244\n",
       "Name: net_mse, dtype: float64"
      ]
     },
     "execution_count": 24,
     "metadata": {},
     "output_type": "execute_result"
    }
   ],
   "source": [
    "show_best(X, \"cnn_rnn_rna\", field='net_mse')"
   ]
  },
  {
   "cell_type": "code",
   "execution_count": 11,
   "metadata": {},
   "outputs": [
    {
     "data": {
      "text/plain": [
       "2126    0.045899\n",
       "2138    0.037191\n",
       "2139    0.038656\n",
       "2140    0.075709\n",
       "2142    0.032622\n",
       "Name: net_mse, dtype: float64"
      ]
     },
     "execution_count": 11,
     "metadata": {},
     "output_type": "execute_result"
    }
   ],
   "source": [
    "X[X.arch_hash=='fa3fec5158688009f9274c11c37921dad0c9b9b3']['net_mse']"
   ]
  },
  {
   "cell_type": "code",
   "execution_count": 22,
   "metadata": {},
   "outputs": [
    {
     "data": {
      "text/plain": [
       "arch_hash\n",
       "4e4521c6e876ae5f79da0d7cade83173bd7369ca    0.148461\n",
       "f6754f479fd9939af8fca7c4f8645a041bb96225    0.151693\n",
       "43bb36cfa71dcbb11832aab18778f83e3285275f    0.152459\n",
       "a69f2c12bd5b43be3a656f75ba0b7cd14358b995    0.154991\n",
       "Name: net_mae, dtype: float64"
      ]
     },
     "execution_count": 22,
     "metadata": {},
     "output_type": "execute_result"
    }
   ],
   "source": [
    "show_best(X, \"rnn_rnn_rna\", field='net_mae')"
   ]
  },
  {
   "cell_type": "code",
   "execution_count": 31,
   "metadata": {},
   "outputs": [
    {
     "data": {
      "text/plain": [
       "arch_hash\n",
       "742681a710b5c4e322466cd46cd1563740fe6018    0.105256\n",
       "03ae8648e05cc13a8e50c5247d248af7e259de8c    0.105287\n",
       "15a1da18c90b543f398e44f74179d03114cea640    0.105564\n",
       "b7035c506b5a5c7d415c702531d6f3e53a5b3550    0.105639\n",
       "a9b6e02316220793e77859c441173333f639da9d    0.105669\n",
       "                                              ...   \n",
       "3163862344c6dfce1ff26c8133de40cde18a03b7    0.322966\n",
       "86cb7d6d759b75142475d21f72ae2ffdf6a03b2b    0.322986\n",
       "7bb7bddbe7eca824d159bc3553d991b1894826cf    0.323108\n",
       "8401cc16d1fa2ddb7f5a898ee788a197dbf3038e    0.323173\n",
       "cdaa59c6a5cb4cc46417f370572d22db0e5b7c3b    0.323635\n",
       "Name: net_score, Length: 100, dtype: float64"
      ]
     },
     "execution_count": 31,
     "metadata": {},
     "output_type": "execute_result"
    }
   ],
   "source": [
    "show_best(X1, \"rnn_cnn_rna\", 100, 'net_score')"
   ]
  },
  {
   "cell_type": "code",
   "execution_count": 33,
   "metadata": {},
   "outputs": [
    {
     "data": {
      "text/plain": [
       "0.1065690010786056"
      ]
     },
     "execution_count": 33,
     "metadata": {},
     "output_type": "execute_result"
    }
   ],
   "source": [
    "X1[X1.arch_hash == '742681a710b5c4e322466cd46cd1563740fe6018'].net_mse.mean()"
   ]
  },
  {
   "cell_type": "code",
   "execution_count": 34,
   "metadata": {},
   "outputs": [
    {
     "data": {
      "text/plain": [
       "0.15425766706466676"
      ]
     },
     "execution_count": 34,
     "metadata": {},
     "output_type": "execute_result"
    }
   ],
   "source": [
    "X1[X1.arch_hash == '742681a710b5c4e322466cd46cd1563740fe6018'].net_mae.mean()"
   ]
  },
  {
   "cell_type": "code",
   "execution_count": null,
   "metadata": {},
   "outputs": [],
   "source": []
  }
 ],
 "metadata": {
  "kernelspec": {
   "display_name": "Python 3",
   "language": "python",
   "name": "python3"
  },
  "language_info": {
   "codemirror_mode": {
    "name": "ipython",
    "version": 3
   },
   "file_extension": ".py",
   "mimetype": "text/x-python",
   "name": "python",
   "nbconvert_exporter": "python",
   "pygments_lexer": "ipython3",
   "version": "3.7.4"
  }
 },
 "nbformat": 4,
 "nbformat_minor": 2
}
